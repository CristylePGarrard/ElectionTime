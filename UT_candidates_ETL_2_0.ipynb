{
  "nbformat": 4,
  "nbformat_minor": 0,
  "metadata": {
    "colab": {
      "provenance": [],
      "authorship_tag": "ABX9TyMpiWQOMkn84nSO8yFeUioU",
      "include_colab_link": true
    },
    "kernelspec": {
      "name": "python3",
      "display_name": "Python 3"
    },
    "language_info": {
      "name": "python"
    }
  },
  "cells": [
    {
      "cell_type": "markdown",
      "metadata": {
        "id": "view-in-github",
        "colab_type": "text"
      },
      "source": [
        "<a href=\"https://colab.research.google.com/github/CristylePGarrard/ElectionTime/blob/main/UT_candidates_ETL_2_0.ipynb\" target=\"_parent\"><img src=\"https://colab.research.google.com/assets/colab-badge.svg\" alt=\"Open In Colab\"/></a>"
      ]
    },
    {
      "cell_type": "markdown",
      "source": [
        "## First create dataframe for the current officials"
      ],
      "metadata": {
        "id": "ro_WGvTtg7kD"
      }
    },
    {
      "cell_type": "code",
      "execution_count": 1,
      "metadata": {
        "colab": {
          "base_uri": "https://localhost:8080/"
        },
        "id": "aQhK2ZLAeIIB",
        "outputId": "e132ed4d-d861-4da5-fc28-8aa42f14dbca"
      },
      "outputs": [
        {
          "output_type": "stream",
          "name": "stdout",
          "text": [
            "Requirement already satisfied: gspread in /usr/local/lib/python3.10/dist-packages (6.0.2)\n",
            "Requirement already satisfied: gspread-dataframe in /usr/local/lib/python3.10/dist-packages (3.3.1)\n",
            "Requirement already satisfied: pandas in /usr/local/lib/python3.10/dist-packages (2.2.2)\n",
            "Requirement already satisfied: openpyxl in /usr/local/lib/python3.10/dist-packages (3.1.5)\n",
            "Requirement already satisfied: google-auth>=1.12.0 in /usr/local/lib/python3.10/dist-packages (from gspread) (2.27.0)\n",
            "Requirement already satisfied: google-auth-oauthlib>=0.4.1 in /usr/local/lib/python3.10/dist-packages (from gspread) (1.2.1)\n",
            "Requirement already satisfied: StrEnum==0.4.15 in /usr/local/lib/python3.10/dist-packages (from gspread) (0.4.15)\n",
            "Requirement already satisfied: six>=1.12.0 in /usr/local/lib/python3.10/dist-packages (from gspread-dataframe) (1.16.0)\n",
            "Requirement already satisfied: numpy>=1.22.4 in /usr/local/lib/python3.10/dist-packages (from pandas) (1.26.4)\n",
            "Requirement already satisfied: python-dateutil>=2.8.2 in /usr/local/lib/python3.10/dist-packages (from pandas) (2.8.2)\n",
            "Requirement already satisfied: pytz>=2020.1 in /usr/local/lib/python3.10/dist-packages (from pandas) (2024.2)\n",
            "Requirement already satisfied: tzdata>=2022.7 in /usr/local/lib/python3.10/dist-packages (from pandas) (2024.2)\n",
            "Requirement already satisfied: et-xmlfile in /usr/local/lib/python3.10/dist-packages (from openpyxl) (1.1.0)\n",
            "Requirement already satisfied: cachetools<6.0,>=2.0.0 in /usr/local/lib/python3.10/dist-packages (from google-auth>=1.12.0->gspread) (5.5.0)\n",
            "Requirement already satisfied: pyasn1-modules>=0.2.1 in /usr/local/lib/python3.10/dist-packages (from google-auth>=1.12.0->gspread) (0.4.1)\n",
            "Requirement already satisfied: rsa<5,>=3.1.4 in /usr/local/lib/python3.10/dist-packages (from google-auth>=1.12.0->gspread) (4.9)\n",
            "Requirement already satisfied: requests-oauthlib>=0.7.0 in /usr/local/lib/python3.10/dist-packages (from google-auth-oauthlib>=0.4.1->gspread) (1.3.1)\n",
            "Requirement already satisfied: pyasn1<0.7.0,>=0.4.6 in /usr/local/lib/python3.10/dist-packages (from pyasn1-modules>=0.2.1->google-auth>=1.12.0->gspread) (0.6.1)\n",
            "Requirement already satisfied: oauthlib>=3.0.0 in /usr/local/lib/python3.10/dist-packages (from requests-oauthlib>=0.7.0->google-auth-oauthlib>=0.4.1->gspread) (3.2.2)\n",
            "Requirement already satisfied: requests>=2.0.0 in /usr/local/lib/python3.10/dist-packages (from requests-oauthlib>=0.7.0->google-auth-oauthlib>=0.4.1->gspread) (2.32.3)\n",
            "Requirement already satisfied: charset-normalizer<4,>=2 in /usr/local/lib/python3.10/dist-packages (from requests>=2.0.0->requests-oauthlib>=0.7.0->google-auth-oauthlib>=0.4.1->gspread) (3.3.2)\n",
            "Requirement already satisfied: idna<4,>=2.5 in /usr/local/lib/python3.10/dist-packages (from requests>=2.0.0->requests-oauthlib>=0.7.0->google-auth-oauthlib>=0.4.1->gspread) (3.10)\n",
            "Requirement already satisfied: urllib3<3,>=1.21.1 in /usr/local/lib/python3.10/dist-packages (from requests>=2.0.0->requests-oauthlib>=0.7.0->google-auth-oauthlib>=0.4.1->gspread) (2.2.3)\n",
            "Requirement already satisfied: certifi>=2017.4.17 in /usr/local/lib/python3.10/dist-packages (from requests>=2.0.0->requests-oauthlib>=0.7.0->google-auth-oauthlib>=0.4.1->gspread) (2024.8.30)\n",
            "Mounted at /content/drive\n"
          ]
        },
        {
          "output_type": "stream",
          "name": "stderr",
          "text": [
            "<ipython-input-1-6e2e7e53686d>:67: FutureWarning: A value is trying to be set on a copy of a DataFrame or Series through chained assignment using an inplace method.\n",
            "The behavior will change in pandas 3.0. This inplace method will never work because the intermediate object on which we are setting values always behaves as a copy.\n",
            "\n",
            "For example, when doing 'df[col].method(value, inplace=True)', try using 'df.method({col: value}, inplace=True)' or df[col] = df[col].method(value) instead, to perform the operation inplace on the original object.\n",
            "\n",
            "\n",
            "  current_officials['Email'].fillna('No Email', inplace=True)\n",
            "<ipython-input-1-6e2e7e53686d>:69: FutureWarning: A value is trying to be set on a copy of a DataFrame or Series through chained assignment using an inplace method.\n",
            "The behavior will change in pandas 3.0. This inplace method will never work because the intermediate object on which we are setting values always behaves as a copy.\n",
            "\n",
            "For example, when doing 'df[col].method(value, inplace=True)', try using 'df.method({col: value}, inplace=True)' or df[col] = df[col].method(value) instead, to perform the operation inplace on the original object.\n",
            "\n",
            "\n",
            "  current_officials['County(ies)'].fillna('No County', inplace=True)\n",
            "<ipython-input-1-6e2e7e53686d>:71: FutureWarning: A value is trying to be set on a copy of a DataFrame or Series through chained assignment using an inplace method.\n",
            "The behavior will change in pandas 3.0. This inplace method will never work because the intermediate object on which we are setting values always behaves as a copy.\n",
            "\n",
            "For example, when doing 'df[col].method(value, inplace=True)', try using 'df.method({col: value}, inplace=True)' or df[col] = df[col].method(value) instead, to perform the operation inplace on the original object.\n",
            "\n",
            "\n",
            "  current_officials['District'].fillna(0, inplace=True)\n"
          ]
        }
      ],
      "source": [
        "# In this version I will add in additional column to show candidates who are already in office (inbumbent)\n",
        "# and are running again for the same office. There are a number of candidates who are currently in one\n",
        "# office but are running for another office. They will not be marked as incumbent because they are running\n",
        "# for a different office than the one they currently hold.\n",
        "\n",
        "# ####### Install necessary libraries ####### #\n",
        "!pip install gspread gspread-dataframe pandas openpyxl\n",
        "\n",
        "# ####### Import libraries ####### #\n",
        "import pandas as pd\n",
        "import gspread\n",
        "from gspread_dataframe import get_as_dataframe\n",
        "from google.colab import auth\n",
        "from googleapiclient.discovery import build\n",
        "\n",
        "# ####### Mount Google Drive to Colab ####### #\n",
        "from google.colab import drive\n",
        "drive.mount('/content/drive')\n",
        "\n",
        "# ####### Authenticate\n",
        "auth.authenticate_user()\n",
        "\n",
        "from google.auth import default\n",
        "creds, _ = default()\n",
        "gc = gspread.authorize(creds)\n",
        "drive_service = build('drive', 'v3', credentials=creds)\n",
        "\n",
        "# Define the folder ID containing the Google Sheets\n",
        "folder_url = 'https://drive.google.com/drive/u/0/folders/1PlbQb3HYSDSBDSSySW6CT9Oafjl5ksNI?ths=true'\n",
        "folder_id = '1PlbQb3HYSDSBDSSySW6CT9Oafjl5ksNI'  # Replace with your folder ID\n",
        "\n",
        "# Search for all Google Sheets in the folder\n",
        "query = f\"'{folder_id}' in parents and mimeType='application/vnd.google-apps.spreadsheet'\"\n",
        "results = drive_service.files().list(q=query, fields=\"files(id, name)\").execute()\n",
        "files = results.get('files', [])\n",
        "\n",
        "# Get the URLs of each Google Sheet\n",
        "sheet_urls = [f\"https://docs.google.com/spreadsheets/d/{file['id']}\" for file in files]\n",
        "\n",
        "def read_google_sheet(sheet_url, worksheet_name=None):\n",
        "    # Open the Google Sheet by its URL\n",
        "    sheet = gc.open_by_url(sheet_url)\n",
        "    # Select the worksheet\n",
        "    if worksheet_name:\n",
        "        worksheet = sheet.worksheet(worksheet_name)\n",
        "    else:\n",
        "        worksheet = sheet.get_worksheet(0)  # Default to the first sheet\n",
        "\n",
        "    # Convert the worksheet to a DataFrame\n",
        "    df = get_as_dataframe(worksheet, evaluate_formulas=True).dropna(how='all')  # Drop rows that are completely empty\n",
        "    df['sheet_name'] = sheet.title  # Add a column with the sheet name\n",
        "    return df\n",
        "\n",
        "all_data = []\n",
        "\n",
        "for url in sheet_urls:\n",
        "    try:\n",
        "        df = read_google_sheet(url)\n",
        "        all_data.append(df)\n",
        "    except Exception as e:\n",
        "        print(f\"Could not read {url}: {e}\")\n",
        "\n",
        "current_officials = pd.concat(all_data, ignore_index=True)\n",
        "\n",
        "current_officials = current_officials.dropna(axis=1, how='all').copy().reset_index(drop=True)\n",
        "# replace empty email with 'No Email'\n",
        "current_officials['Email'].fillna('No Email', inplace=True)\n",
        "# replace empty couties with No County\n",
        "current_officials['County(ies)'].fillna('No County', inplace=True)\n",
        "# replace null District with 0\n",
        "current_officials['District'].fillna(0, inplace=True)\n",
        "# format strings\n",
        "current_officials['Name'] = current_officials['Name'].str.replace('  ', ' ').str.strip()\n",
        "current_officials['Party'] = current_officials['Party'].str.strip().str.upper()\n",
        "current_officials['Office'] = current_officials['Office'].str.strip()\n",
        "current_officials['Email'] = current_officials['Email'].str.replace('  ', ' ').str.strip()\n",
        "current_officials['County(ies)'] = current_officials['County(ies)'].str.replace('  ', ' ').str.strip()\n",
        "# change District dtype to int\n",
        "current_officials['District'] = current_officials['District'].astype(int)\n",
        "\n",
        "def split_name(row):\n",
        "  full_name = row['Name']\n",
        "  name_parts = full_name.split(' ')\n",
        "\n",
        "  if ',' in full_name:\n",
        "    first_name = name_parts[1] if len(name_parts) > 0 else ''\n",
        "    middle_name = name_parts[-1] if len(name_parts) == 3 else ''\n",
        "    last_name = name_parts[0] if len(name_parts) > 1 else ''\n",
        "  else:\n",
        "    first_name = name_parts[0] if len(name_parts) > 0 else ''\n",
        "    middle_name = name_parts[1] if len(name_parts) == 3 else ''\n",
        "    last_name = name_parts[-1] if len(name_parts) > 1 else ''\n",
        "\n",
        "  name_on_ballot = first_name + ' ' + middle_name + ' ' + last_name\n",
        "  name_on_ballot = name_on_ballot.strip()\n",
        "  row['First Name'] = first_name.strip()\n",
        "  row['Middle Name'] = middle_name.strip()\n",
        "  row['Last Name'] = last_name.strip()\n",
        "  row['Name on Ballot'] = name_on_ballot\n",
        "\n",
        "  return row\n",
        "\n",
        "current_officials = current_officials.apply(split_name, axis=1)\n",
        "\n",
        "def create_record_id(row):\n",
        "    # Convert all parts to strings and handle NaN or None values by replacing them with an empty string\n",
        "    first_name = str(row['First Name']) if not pd.isna(row['First Name']) else ''\n",
        "    # middle_name = str(row['Middle Name']) if not pd.isna(row['Middle Name']) else ''\n",
        "    # last_name = str(row['Last Name']) if not pd.isna(row['Last Name']) else ''\n",
        "    office = str(row['Office']) if not pd.isna(row['Office']) else ''\n",
        "    district = str(row['District']) if not pd.isna(row['District']) else ''\n",
        "\n",
        "    # Create the record ID by concatenating all parts\n",
        "    record_id = first_name + '-' + office + '-' + district\n",
        "\n",
        "    # Add the record ID to the row\n",
        "    row['record_id'] = record_id.strip().upper()\n",
        "\n",
        "    return row\n",
        "\n",
        "# Apply the function to each row in the DataFrame\n",
        "current_officials = current_officials.apply(create_record_id, axis=1)\n",
        "\n",
        "# Optionally, save the combined DataFrame to a new file\n",
        "file_path = '/content/drive/My Drive/ut_pol/'\n",
        "save_filename = 'current_officials.csv'\n",
        "current_officials.to_csv(file_path + save_filename, index=False)"
      ]
    },
    {
      "cell_type": "markdown",
      "source": [
        "# Next create a dataframe with the candidate info"
      ],
      "metadata": {
        "id": "qeyrJik-REf9"
      }
    },
    {
      "cell_type": "code",
      "source": [
        "# ####### Mount Google Drive to Colab ####### #\n",
        "from google.colab import drive\n",
        "drive.mount('/content/drive')\n",
        "\n",
        "# ####### Set the file path to uploaded Excel file ####### #\n",
        "# Update the path with the actual location of file in Google Drive\n",
        "file_path = '/content/drive/My Drive/ut_pol/'\n",
        "filename = 'CandidateFiling24.xlsx'\n",
        "\n",
        "# ####### Read the Excel file into a DataFrame ####### #\n",
        "print(\"Reading Excel file...\")\n",
        "\n",
        "# There's a weird warning about the format and openpyxl but we don't gotta worry about that so ignore it\n",
        "import warnings\n",
        "warnings.simplefilter(\"ignore\")\n",
        "\n",
        "# Read the Excel file\n",
        "candidates = pd.read_excel(file_path+filename, engine='openpyxl')\n",
        "\n",
        "# ####### Clean the Data ####### #\n",
        "print(\"Cleaning data...\")\n",
        "\n",
        "# ####### Handle missing values ####### #\n",
        "# Display columns with missing values\n",
        "missing_values = candidates.isnull().sum()\n",
        "# print(\"Missing values per column:\\n\", missing_values)\n",
        "\n",
        "# Fill missing emails with 'No Email' and websites with 'No Website'\n",
        "candidates['Email'].fillna('No Email', inplace=True)\n",
        "candidates['Website'].fillna('No Website', inplace=True)\n",
        "# Fill missing 'District' values with 0\n",
        "candidates['District'].fillna(0, inplace=True)\n",
        "\n",
        "# ####### The rows with the judge info need to be parsed and separated into the other columns ####### #\n",
        "import re\n",
        "\n",
        "# Identify the judge info\n",
        "# -- The format is different and phrased as a question about whether so and so\n",
        "# -- should be retained as the judge in the 'Name on Ballot' column\n",
        "\n",
        "judge_rows = candidates[candidates['Name on Ballot'].str.contains(r'\\bShall\\b', na=False)]\n",
        "\n",
        "# function to extract and update the data, including middle names\n",
        "def parse_question(row):\n",
        "    question = row['Name on Ballot']\n",
        "\n",
        "    # Extract the full name using regex between \"Shall \" and \" be retained in \"\n",
        "    name_match = re.search(r'Shall\\s([A-Z][A-Z\\s\\.]+)\\sbe retained in', question)\n",
        "    full_name = name_match.group(1).title() if name_match else 'Unknown Name'\n",
        "\n",
        "    # Split the full name into parts (first, middle, last)\n",
        "    name_parts = full_name.split()\n",
        "\n",
        "    # Extract first, middle, and last names based on the number of name parts\n",
        "    first_name = name_parts[0] if len(name_parts) > 0 else ''\n",
        "    middle_name = name_parts[1] if len(name_parts) == 3 else ''\n",
        "    last_name = name_parts[-1] if len(name_parts) > 1 else ''\n",
        "\n",
        "    # Extract the office from the question\n",
        "    office_match = re.search(r'office of (.+?)(?: of|$)', question, re.IGNORECASE)\n",
        "    office = office_match.group(1).strip() if office_match else 'Unknown Office'\n",
        "\n",
        "    # Extract the district from the question\n",
        "    district_match = re.search(r'of the (.+?)(?:\\?$)', question, re.IGNORECASE)\n",
        "    district = district_match.group(1).strip() if district_match else 'Unknown District'\n",
        "\n",
        "    # Update the row with the extracted information\n",
        "    row['First Name'] = first_name\n",
        "    row['Middle Name'] = middle_name\n",
        "    row['Last Name'] = last_name\n",
        "    row['Office'] = office\n",
        "    row['District'] = district\n",
        "    row['Name on Ballot'] = full_name  # Replace with the extracted full name\n",
        "\n",
        "    return row\n",
        "\n",
        "# Apply the function to the relevant rows\n",
        "candidates.loc[judge_rows.index] = judge_rows.apply(parse_question, axis=1)\n",
        "\n",
        "# ####### Standardize text data ####### #\n",
        "# Strip leading/trailing whitespace, convert to title case\n",
        "candidates['First Name'] = candidates['First Name'].str.strip().str.title()\n",
        "candidates['Middle Name'] = candidates['Middle Name'].str.strip().str.title()\n",
        "candidates['Last Name'] = candidates['Last Name'].str.strip().str.title()\n",
        "# Convert to uppercase for consistency\n",
        "candidates['Party'] = candidates['Party'].str.strip().str.upper()\n",
        "# Strip leading/trailing whitespace\n",
        "candidates['Office'] = candidates['Office'].str.strip()\n",
        "candidates['Status'] = candidates['Status'].str.strip()\n",
        "# Removing extra spaces from strings\n",
        "candidates['Name on Ballot'] = candidates['Name on Ballot'].str.replace('  ', ' ').str.strip()\n",
        "candidates['Website'] = candidates['Website'].str.replace('  ', ' ').str.strip()\n",
        "candidates['Email'] = candidates['Email'].str.replace('  ', ' ').str.strip()\n",
        "\n",
        "# ####### Remove duplicates ####### #\n",
        "candidates.drop_duplicates(inplace=True)\n",
        "\n",
        "# ####### Convert data types ####### #\n",
        "\n",
        "# Separate numeric and judge district data\n",
        "# Convert numeric district values to integers; keep judge districts as strings\n",
        "def standardize_district(row):\n",
        "    district = row['District']\n",
        "    try:\n",
        "        # Try converting to int, if possible\n",
        "        district_num = int(district)\n",
        "        row['District'] = district_num\n",
        "        row['Display District'] = f\"District {district_num}\"  # For unified display purposes\n",
        "    except ValueError:\n",
        "        # Keep as string for judge districts\n",
        "        row['Display District'] = district.strip()  # Use the existing string value for judges\n",
        "\n",
        "    return row\n",
        "\n",
        "# Apply the function to the DataFrame\n",
        "candidates = candidates.apply(standardize_district, axis=1)\n",
        "\n",
        "# create record id\n",
        "candidates = candidates.apply(create_record_id, axis=1)"
      ],
      "metadata": {
        "colab": {
          "base_uri": "https://localhost:8080/"
        },
        "id": "zWbFCsQUgYN1",
        "outputId": "19466e73-e430-4afa-ef22-8e835f6fd1b7"
      },
      "execution_count": 2,
      "outputs": [
        {
          "output_type": "stream",
          "name": "stdout",
          "text": [
            "Drive already mounted at /content/drive; to attempt to forcibly remount, call drive.mount(\"/content/drive\", force_remount=True).\n",
            "Reading Excel file...\n",
            "Cleaning data...\n"
          ]
        }
      ]
    },
    {
      "cell_type": "markdown",
      "source": [
        "# Now create a new column in the candidate dataframe to show candidates running again for the same office"
      ],
      "metadata": {
        "id": "hbX54B-5RxFH"
      }
    },
    {
      "cell_type": "code",
      "source": [
        "# Create a set of all record_ids in combined_candidates for quick lookup\n",
        "combined_record_ids = set(current_officials['record_id'])\n",
        "\n",
        "# Add a column to candidates that checks if the record_id is in combined_record_ids\n",
        "candidates['incumbent'] = candidates['record_id'].isin(combined_record_ids)\n",
        "\n",
        "# Verify the changes\n",
        "candidates.head()\n",
        "\n",
        "# Optional: Save the cleaned data for future use\n",
        "print(\"Saving cleaned_candidates_data to file...\")\n",
        "# candidates.to_csv('cleaned_candidates_data.csv', index=False)\n",
        "save_filename = 'cleaned_candidates_data.csv'\n",
        "candidates.to_csv(file_path+save_filename, index=False)"
      ],
      "metadata": {
        "colab": {
          "base_uri": "https://localhost:8080/"
        },
        "id": "nM8uDzhGlHmD",
        "outputId": "b0dd210d-074a-4678-b6c1-d6b377c72808"
      },
      "execution_count": 3,
      "outputs": [
        {
          "output_type": "stream",
          "name": "stdout",
          "text": [
            "Saving cleaned_candidates_data to file...\n"
          ]
        }
      ]
    },
    {
      "cell_type": "markdown",
      "source": [
        "# Optional: Save csv of only incumbent candidates"
      ],
      "metadata": {
        "id": "14l9a1j-SXEo"
      }
    },
    {
      "cell_type": "code",
      "source": [
        "incumbents = candidates.loc[candidates['incumbent']].copy().reset_index(drop=True)\n",
        "# print(incumbents.head())\n",
        "print(\"Saving incumbents to file...\")\n",
        "save_filename = 'incumbents.csv'\n",
        "incumbents.to_csv(file_path+save_filename, index=False)"
      ],
      "metadata": {
        "colab": {
          "base_uri": "https://localhost:8080/"
        },
        "id": "y6SiJK2fuyHe",
        "outputId": "8ae17def-dfb9-41ce-ef02-4879f2bda285"
      },
      "execution_count": 4,
      "outputs": [
        {
          "output_type": "stream",
          "name": "stdout",
          "text": [
            "Saving incumbents to file...\n"
          ]
        }
      ]
    },
    {
      "cell_type": "markdown",
      "source": [
        "# Validate matching data"
      ],
      "metadata": {
        "id": "epkfqpj5ShD9"
      }
    },
    {
      "cell_type": "markdown",
      "source": [
        "1. Check for Duplicate Keys: Ensure that the keys in each sheet are unique to prevent incorrect matches."
      ],
      "metadata": {
        "id": "GSrNpltLlKwN"
      }
    },
    {
      "cell_type": "code",
      "source": [
        "# Check for duplicates in the candidates running for office based on 'record_id' and 'Status'\n",
        "running_duplicates = candidates[candidates.duplicated(subset=['record_id', 'Status'], keep=False)]\n",
        "\n",
        "if not running_duplicates.empty:\n",
        "    print(\"True duplicates found in candidates based on 'record_id' and 'Status':\")\n",
        "    print(running_duplicates)\n",
        "else:\n",
        "    print(\"No true duplicates in candidates based on 'record_id' and 'Status'\")\n",
        "\n",
        "\n",
        "# Check for duplicates in the current officials\n",
        "current_duplicates = current_officials[current_officials['record_id'].duplicated()]\n",
        "if not current_duplicates.empty:\n",
        "    print(\"Duplicates found in current officials:\", current_duplicates)\n",
        "else:\n",
        "    print(\"No duplicates in current officials\")\n"
      ],
      "metadata": {
        "colab": {
          "base_uri": "https://localhost:8080/"
        },
        "id": "eHa5xlvDxqPA",
        "outputId": "2bfaef59-2041-4dd7-eb8b-1fefbfb7bcba"
      },
      "execution_count": 5,
      "outputs": [
        {
          "output_type": "stream",
          "name": "stdout",
          "text": [
            "No true duplicates in candidates based on 'record_id' and 'Status'\n",
            "No duplicates in current officials\n"
          ]
        }
      ]
    },
    {
      "cell_type": "markdown",
      "source": [
        "2. Check for Unmatched Keys in the Results Sheet: Ensure all keys in the results sheet exist in either the current or running candidates sheets."
      ],
      "metadata": {
        "id": "IPfS0UfqlerM"
      }
    },
    {
      "cell_type": "code",
      "source": [
        "# Find keys in results not in current officials\n",
        "unmatched_in_current = set(incumbents['record_id']) - set(current_officials['record_id'])\n",
        "print(\"Keys in results not found in current candidates:\", unmatched_in_current)\n",
        "\n",
        "# Find keys in results not in running candidates\n",
        "unmatched_in_running = set(incumbents['record_id']) - set(candidates['record_id'])\n",
        "print(\"Keys in results not found in running candidates:\", unmatched_in_running)\n"
      ],
      "metadata": {
        "colab": {
          "base_uri": "https://localhost:8080/"
        },
        "id": "RZ881ANe6rXo",
        "outputId": "603868d5-3499-43d5-88f9-7734080579df"
      },
      "execution_count": 6,
      "outputs": [
        {
          "output_type": "stream",
          "name": "stdout",
          "text": [
            "Keys in results not found in current candidates: set()\n",
            "Keys in results not found in running candidates: set()\n"
          ]
        }
      ]
    },
    {
      "cell_type": "markdown",
      "source": [
        "3. Visual Validation:\n",
        "Purpose: Visualize the distribution of records by office and district for each dataset to identify anomalies."
      ],
      "metadata": {
        "id": "9MnQpLRcq6Za"
      }
    },
    {
      "cell_type": "code",
      "source": [
        "import seaborn as sns\n",
        "import matplotlib.pyplot as plt\n",
        "\n",
        "matching_records = incumbents['record_id']\n",
        "filtered_offices = [x for x in candidates['Office'].unique() if x in current_officials['Office'].unique()]\n",
        "\n",
        "curr = current_officials.loc[\n",
        "    (current_officials['record_id'].isin(matching_records)) &\n",
        "     (current_officials['Office'].isin(filtered_offices))\n",
        "     ][[x for x in candidates.columns if x in current_officials.columns]]\n",
        "cand = candidates.loc[\n",
        "    (candidates['record_id'].isin(matching_records)) &\n",
        "     (candidates['Office'].isin(filtered_offices))\n",
        "     ][[x for x in candidates.columns if x in current_officials.columns]]\n",
        "\n",
        "sns.countplot(data=curr, x='Office', hue='District')\n",
        "plt.title('Current Candidates by Office and District')\n",
        "plt.show()\n",
        "\n",
        "sns.countplot(data=cand, x='Office', hue='District')\n",
        "plt.title('Running Candidates by Office and District')\n",
        "plt.show()\n"
      ],
      "metadata": {
        "colab": {
          "base_uri": "https://localhost:8080/",
          "height": 927
        },
        "id": "QNHE0QXCsqFB",
        "outputId": "3d52653f-aee8-4621-c3eb-3164ac8bd857"
      },
      "execution_count": 7,
      "outputs": [
        {
          "output_type": "display_data",
          "data": {
            "text/plain": [
              "<Figure size 640x480 with 1 Axes>"
            ],
            "image/png": "[encoded data removed]"
          },
          "metadata": {}
        },
        {
          "output_type": "display_data",
          "data": {
            "text/plain": [
              "<Figure size 640x480 with 1 Axes>"
            ],
            "image/png": "[encoded data removed]"
          },
          "metadata": {}
        }
      ]
    }
  ]
}